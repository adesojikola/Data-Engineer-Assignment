{
 "cells": [
  {
   "cell_type": "code",
   "execution_count": 28,
   "id": "099f13f7",
   "metadata": {},
   "outputs": [
    {
     "data": {
      "text/plain": [
       "4"
      ]
     },
     "execution_count": 28,
     "metadata": {},
     "output_type": "execute_result"
    }
   ],
   "source": [
    "#importing the marvel module \n",
    "\n",
    "from marvel import Marvel \n",
    "m = Marvel(\"edec3dd9250fc3e2e7574b282ab8146e\",\n",
    "\"81184165f5093344e156a0fae4a7420ab5893c41\") \n",
    "\n",
    "# getting the characters object\n",
    "\n",
    "characters= m.characters \n",
    "\n",
    "# serial code of your favourite character \n",
    "# this can be different according to your preference \n",
    "\n",
    "#Now let's try the characters.comics() function\n",
    "\n",
    "comic = m.characters.comics(1017100)\n",
    "\n",
    "df_comic = pd.DataFrame(comic[\"data\"][\"results\"])\n",
    "\n",
    "# To count the number of rows returned. \n",
    "\n",
    "len(df_comic.index)"
   ]
  },
  {
   "cell_type": "code",
   "execution_count": null,
   "id": "bb5ec2fc",
   "metadata": {},
   "outputs": [],
   "source": []
  },
  {
   "cell_type": "code",
   "execution_count": null,
   "id": "34e70be7",
   "metadata": {},
   "outputs": [],
   "source": []
  },
  {
   "cell_type": "code",
   "execution_count": null,
   "id": "1af71432",
   "metadata": {},
   "outputs": [],
   "source": []
  },
  {
   "cell_type": "code",
   "execution_count": null,
   "id": "7efc13f7",
   "metadata": {},
   "outputs": [],
   "source": []
  }
 ],
 "metadata": {
  "kernelspec": {
   "display_name": "Python 3 (ipykernel)",
   "language": "python",
   "name": "python3"
  },
  "language_info": {
   "codemirror_mode": {
    "name": "ipython",
    "version": 3
   },
   "file_extension": ".py",
   "mimetype": "text/x-python",
   "name": "python",
   "nbconvert_exporter": "python",
   "pygments_lexer": "ipython3",
   "version": "3.10.2"
  }
 },
 "nbformat": 4,
 "nbformat_minor": 5
}
